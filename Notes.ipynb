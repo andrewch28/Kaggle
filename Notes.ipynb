{
 "cells": [
  {
   "cell_type": "code",
   "execution_count": 1,
   "metadata": {},
   "outputs": [],
   "source": [
    "from sklearn.metrics import classification_report\n",
    "from sklearn import metrics\n",
    "from sklearn.metrics import accuracy_score"
   ]
  },
  {
   "cell_type": "markdown",
   "metadata": {},
   "source": [
    "It appear to be that it is much more accureate to use ```metrics.f1_score(y_val, y_pred)``` on test data, rather than ```accuracy_score()``` for examplpe. Overall, I guess it is nice to simplt use ```classification_report``` to get familiar with data"
   ]
  },
  {
   "cell_type": "markdown",
   "metadata": {},
   "source": [
    "Apparently there are RandomForestRegressor and RandomForestClassifier depending on the type of the problem. And if I am correct to understand the same applies to the kNN, however better check this out.\n",
    "\n",
    "Logistic Regression, however, is only for classification problems, while Linear Regression, Ridge and Lasso are for regressions"
   ]
  }
 ],
 "metadata": {
  "kernelspec": {
   "display_name": "Python 3",
   "language": "python",
   "name": "python3"
  },
  "language_info": {
   "codemirror_mode": {
    "name": "ipython",
    "version": 3
   },
   "file_extension": ".py",
   "mimetype": "text/x-python",
   "name": "python",
   "nbconvert_exporter": "python",
   "pygments_lexer": "ipython3",
   "version": "3.12.3"
  }
 },
 "nbformat": 4,
 "nbformat_minor": 2
}
